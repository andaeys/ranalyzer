{
 "cells": [
  {
   "cell_type": "code",
   "execution_count": 1,
   "metadata": {},
   "outputs": [
    {
     "name": "stdout",
     "output_type": "stream",
     "text": [
      "Python version 3.8.5 (default, Sep  3 2020, 21:29:08) [MSC v.1916 64 bit (AMD64)]\n",
      "Pandas version 1.1.5\n",
      "Matplotlib version 3.3.3\n"
     ]
    }
   ],
   "source": [
    "from pandas import DataFrame, read_csv\n",
    "\n",
    "# General syntax to import a library but no functions: \n",
    "##import (library) as (give the library a nickname/alias)\n",
    "import matplotlib.pyplot as plt\n",
    "import pandas as pd #this is how I usually import pandas\n",
    "import sys #only needed to determine Python version number\n",
    "import matplotlib #only needed to determine Matplotlib version number\n",
    "import numpy as np\n",
    "\n",
    "# Enable inline plotting\n",
    "%matplotlib inline\n",
    "\n",
    "print('Python version ' + sys.version)\n",
    "print('Pandas version ' + pd.__version__)\n",
    "print('Matplotlib version ' + matplotlib.__version__)"
   ]
  },
  {
   "cell_type": "code",
   "execution_count": 2,
   "metadata": {},
   "outputs": [],
   "source": [
    "jul_raw = pd.read_csv('datasets/jul_2020.csv', engine = 'python')\n",
    "aug_raw = pd.read_csv('datasets/aug_2020.csv', engine = 'python')\n",
    "sep_raw = pd.read_csv('datasets/sep_2020.csv', engine = 'python')\n",
    "oct_raw = pd.read_csv('datasets/oct_2020.csv', engine = 'python')\n",
    "nov_raw = pd.read_csv('datasets/nov_2020.csv', engine = 'python')\n",
    "dec_raw = pd.read_csv('datasets/dec_2020.csv', engine = 'python')"
   ]
  },
  {
   "cell_type": "code",
   "execution_count": 3,
   "metadata": {},
   "outputs": [
    {
     "name": "stdout",
     "output_type": "stream",
     "text": [
      "<class 'pandas.core.frame.DataFrame'>\n",
      "Int64Index: 3501 entries, 0 to 379\n",
      "Data columns (total 16 columns):\n",
      " #   Column                                 Non-Null Count  Dtype  \n",
      "---  ------                                 --------------  -----  \n",
      " 0   Package Name                           3501 non-null   object \n",
      " 1   App Version Code                       2564 non-null   float64\n",
      " 2   App Version Name                       2564 non-null   object \n",
      " 3   Reviewer Language                      3501 non-null   object \n",
      " 4   Device                                 3501 non-null   object \n",
      " 5   Review Submit Date and Time            3501 non-null   object \n",
      " 6   Review Submit Millis Since Epoch       3501 non-null   float64\n",
      " 7   Review Last Update Date and Time       3501 non-null   object \n",
      " 8   Review Last Update Millis Since Epoch  3501 non-null   float64\n",
      " 9   Star Rating                            3501 non-null   int64  \n",
      " 10  Review Title                           0 non-null      float64\n",
      " 11  Review Text                            1103 non-null   object \n",
      " 12  Developer Reply Date and Time          809 non-null    object \n",
      " 13  Developer Reply Millis Since Epoch     809 non-null    float64\n",
      " 14  Developer Reply Text                   809 non-null    object \n",
      " 15  Review Link                            1103 non-null   object \n",
      "dtypes: float64(5), int64(1), object(10)\n",
      "memory usage: 465.0+ KB\n"
     ]
    }
   ],
   "source": [
    "frames = [jul_raw, aug_raw, sep_raw, oct_raw, nov_raw, dec_raw]\n",
    "raw_data = pd.concat(frames)\n",
    "raw_data.info()"
   ]
  },
  {
   "cell_type": "code",
   "execution_count": 4,
   "metadata": {},
   "outputs": [
    {
     "data": {
      "text/plain": [
       "<AxesSubplot:>"
      ]
     },
     "execution_count": 4,
     "metadata": {},
     "output_type": "execute_result"
    },
    {
     "data": {
      "image/png": "[encoded data removed]",
      "text/plain": [
       "<Figure size 432x288 with 1 Axes>"
      ]
     },
     "metadata": {
      "needs_background": "light"
     },
     "output_type": "display_data"
    }
   ],
   "source": [
    "raw_data['Star Rating'].value_counts().plot(kind='bar')"
   ]
  },
  {
   "cell_type": "code",
   "execution_count": 5,
   "metadata": {},
   "outputs": [
    {
     "name": "stdout",
     "output_type": "stream",
     "text": [
      "with review:  670  vs no review:  675\n"
     ]
    }
   ],
   "source": [
    "is_bad_rating = raw_data['Star Rating'] <= 4\n",
    "is_review_available = pd.notnull(raw_data['Review Text'])\n",
    "is_no_review = pd.isnull(raw_data['Review Text'])\n",
    "bad_ratting_no_review = raw_data[is_bad_rating & is_no_review]\n",
    "bad_ratting_with_review = raw_data[is_bad_rating & is_review_available]\n",
    "print(\"with review: \", len(bad_ratting_with_review), \" vs no review: \", len(bad_ratting_no_review))"
   ]
  },
  {
   "cell_type": "code",
   "execution_count": 6,
   "metadata": {},
   "outputs": [
    {
     "data": {
      "text/html": [
       "<div>\n",
       "<style scoped>\n",
       "    .dataframe tbody tr th:only-of-type {\n",
       "        vertical-align: middle;\n",
       "    }\n",
       "\n",
       "    .dataframe tbody tr th {\n",
       "        vertical-align: top;\n",
       "    }\n",
       "\n",
       "    .dataframe thead th {\n",
       "        text-align: right;\n",
       "    }\n",
       "</style>\n",
       "<table border=\"1\" class=\"dataframe\">\n",
       "  <thead>\n",
       "    <tr style=\"text-align: right;\">\n",
       "      <th></th>\n",
       "      <th>Star Rating</th>\n",
       "      <th>Review Text</th>\n",
       "      <th>App Version Name</th>\n",
       "    </tr>\n",
       "  </thead>\n",
       "  <tbody>\n",
       "    <tr>\n",
       "      <th>0</th>\n",
       "      <td>1</td>\n",
       "      <td>Yah quiper ngk gratis lagiiii</td>\n",
       "      <td>NaN</td>\n",
       "    </tr>\n",
       "    <tr>\n",
       "      <th>5</th>\n",
       "      <td>1</td>\n",
       "      <td>Di website quipper bilangnya akun gratis quipp...</td>\n",
       "      <td>6.0.23</td>\n",
       "    </tr>\n",
       "    <tr>\n",
       "      <th>8</th>\n",
       "      <td>3</td>\n",
       "      <td>Kurang bagus</td>\n",
       "      <td>6.0.23</td>\n",
       "    </tr>\n",
       "    <tr>\n",
       "      <th>10</th>\n",
       "      <td>3</td>\n",
       "      <td>Gimana sih kok gak nyampe katasandiny???????????</td>\n",
       "      <td>6.0.23</td>\n",
       "    </tr>\n",
       "    <tr>\n",
       "      <th>13</th>\n",
       "      <td>1</td>\n",
       "      <td>Terima kasih</td>\n",
       "      <td>6.0.15</td>\n",
       "    </tr>\n",
       "    <tr>\n",
       "      <th>...</th>\n",
       "      <td>...</td>\n",
       "      <td>...</td>\n",
       "      <td>...</td>\n",
       "    </tr>\n",
       "    <tr>\n",
       "      <th>63</th>\n",
       "      <td>1</td>\n",
       "      <td>Halo para angota quipper kalok mau promosiin l...</td>\n",
       "      <td>6.0.25</td>\n",
       "    </tr>\n",
       "    <tr>\n",
       "      <th>66</th>\n",
       "      <td>1</td>\n",
       "      <td>Aplikasi nya ngabisin memo guee :(</td>\n",
       "      <td>NaN</td>\n",
       "    </tr>\n",
       "    <tr>\n",
       "      <th>71</th>\n",
       "      <td>1</td>\n",
       "      <td>Terimakasih quipper, sejak saya tahu aplikasi ...</td>\n",
       "      <td>6.0.25</td>\n",
       "    </tr>\n",
       "    <tr>\n",
       "      <th>72</th>\n",
       "      <td>1</td>\n",
       "      <td>Lemot lemot lemot lemot lemot lemot lemot</td>\n",
       "      <td>6.0.25</td>\n",
       "    </tr>\n",
       "    <tr>\n",
       "      <th>74</th>\n",
       "      <td>1</td>\n",
       "      <td>Sebenarnya aplikasinya membantu,tapi untuk tah...</td>\n",
       "      <td>6.0.25</td>\n",
       "    </tr>\n",
       "  </tbody>\n",
       "</table>\n",
       "<p>100 rows × 3 columns</p>\n",
       "</div>"
      ],
      "text/plain": [
       "    Star Rating                                        Review Text  \\\n",
       "0             1                      Yah quiper ngk gratis lagiiii   \n",
       "5             1  Di website quipper bilangnya akun gratis quipp...   \n",
       "8             3                                       Kurang bagus   \n",
       "10            3   Gimana sih kok gak nyampe katasandiny???????????   \n",
       "13            1                                       Terima kasih   \n",
       "..          ...                                                ...   \n",
       "63            1  Halo para angota quipper kalok mau promosiin l...   \n",
       "66            1                 Aplikasi nya ngabisin memo guee :(   \n",
       "71            1  Terimakasih quipper, sejak saya tahu aplikasi ...   \n",
       "72            1          Lemot lemot lemot lemot lemot lemot lemot   \n",
       "74            1  Sebenarnya aplikasinya membantu,tapi untuk tah...   \n",
       "\n",
       "   App Version Name  \n",
       "0               NaN  \n",
       "5            6.0.23  \n",
       "8            6.0.23  \n",
       "10           6.0.23  \n",
       "13           6.0.15  \n",
       "..              ...  \n",
       "63           6.0.25  \n",
       "66              NaN  \n",
       "71           6.0.25  \n",
       "72           6.0.25  \n",
       "74           6.0.25  \n",
       "\n",
       "[100 rows x 3 columns]"
      ]
     },
     "execution_count": 6,
     "metadata": {},
     "output_type": "execute_result"
    }
   ],
   "source": [
    "bad_ratting_with_review[['Star Rating', 'Review Text', 'App Version Name']][:100]"
   ]
  },
  {
   "cell_type": "code",
   "execution_count": null,
   "metadata": {},
   "outputs": [],
   "source": []
  },
  {
   "cell_type": "code",
   "execution_count": null,
   "metadata": {},
   "outputs": [],
   "source": []
  },
  {
   "cell_type": "code",
   "execution_count": null,
   "metadata": {},
   "outputs": [],
   "source": []
  },
  {
   "cell_type": "code",
   "execution_count": null,
   "metadata": {},
   "outputs": [],
   "source": []
  },
  {
   "cell_type": "code",
   "execution_count": null,
   "metadata": {},
   "outputs": [],
   "source": []
  }
 ],
 "metadata": {
  "kernelspec": {
   "display_name": "Python 3",
   "language": "python",
   "name": "python3"
  },
  "language_info": {
   "codemirror_mode": {
    "name": "ipython",
    "version": 3
   },
   "file_extension": ".py",
   "mimetype": "text/x-python",
   "name": "python",
   "nbconvert_exporter": "python",
   "pygments_lexer": "ipython3",
   "version": "3.8.5"
  }
 },
 "nbformat": 4,
 "nbformat_minor": 4
}
