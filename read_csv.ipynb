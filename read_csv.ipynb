{
 "cells": [
  {
   "cell_type": "code",
   "execution_count": 38,
   "metadata": {},
   "outputs": [
    {
     "name": "stdout",
     "output_type": "stream",
     "text": [
      "Python version 3.7.9 (default, Aug 31 2020, 12:42:55) \n",
      "[GCC 7.3.0]\n",
      "Pandas version 1.1.5\n",
      "Matplotlib version 3.3.3\n"
     ]
    }
   ],
   "source": [
    "from pandas import DataFrame, read_csv\n",
    "\n",
    "# General syntax to import a library but no functions: \n",
    "##import (library) as (give the library a nickname/alias)\n",
    "import matplotlib.pyplot as plt\n",
    "import pandas as pd #this is how I usually import pandas\n",
    "import sys #only needed to determine Python version number\n",
    "import matplotlib #only needed to determine Matplotlib version number\n",
    "import numpy as np\n",
    "from langdetect import detect_langs #detect lang\n",
    "from langdetect import detect #detect lang\n",
    "\n",
    "# Enable inline plotting\n",
    "%matplotlib inline\n",
    "\n",
    "print('Python version ' + sys.version)\n",
    "print('Pandas version ' + pd.__version__)\n",
    "print('Matplotlib version ' + matplotlib.__version__)"
   ]
  },
  {
   "cell_type": "code",
   "execution_count": 39,
   "metadata": {},
   "outputs": [
    {
     "name": "stdout",
     "output_type": "stream",
     "text": [
      "['/home/anda/DL/ranalyzer/datasets/nov_2020.csv', '/home/anda/DL/ranalyzer/datasets/dec_2020.csv', '/home/anda/DL/ranalyzer/datasets/oct_2020.csv', '/home/anda/DL/ranalyzer/datasets/sep_2020.csv', '/home/anda/DL/ranalyzer/datasets/aug_2020.csv', '/home/anda/DL/ranalyzer/datasets/jul_2020.csv']\n",
      "<class 'pandas.core.frame.DataFrame'>\n",
      "RangeIndex: 3501 entries, 0 to 3500\n",
      "Data columns (total 16 columns):\n",
      " #   Column                                 Non-Null Count  Dtype  \n",
      "---  ------                                 --------------  -----  \n",
      " 0   Package Name                           3501 non-null   object \n",
      " 1   App Version Code                       2564 non-null   float64\n",
      " 2   App Version Name                       2564 non-null   object \n",
      " 3   Reviewer Language                      3501 non-null   object \n",
      " 4   Device                                 3501 non-null   object \n",
      " 5   Review Submit Date and Time            3501 non-null   object \n",
      " 6   Review Submit Millis Since Epoch       3501 non-null   float64\n",
      " 7   Review Last Update Date and Time       3501 non-null   object \n",
      " 8   Review Last Update Millis Since Epoch  3501 non-null   float64\n",
      " 9   Star Rating                            3501 non-null   int64  \n",
      " 10  Review Title                           0 non-null      float64\n",
      " 11  Review Text                            1103 non-null   object \n",
      " 12  Developer Reply Date and Time          809 non-null    object \n",
      " 13  Developer Reply Millis Since Epoch     809 non-null    float64\n",
      " 14  Developer Reply Text                   809 non-null    object \n",
      " 15  Review Link                            1103 non-null   object \n",
      "dtypes: float64(5), int64(1), object(10)\n",
      "memory usage: 437.8+ KB\n"
     ]
    }
   ],
   "source": [
    "import glob\n",
    "\n",
    "path = r'/home/anda/DL/ranalyzer/datasets'\n",
    "all_files = glob.glob(path + \"/*.csv\")\n",
    "print(all_files)\n",
    "li = []\n",
    "\n",
    "for filename in all_files:\n",
    "    df = pd.read_csv(filename, engine = 'python', index_col=None, header=0)\n",
    "    li.append(df)\n",
    "# print(li)\n",
    "    \n",
    "raw_data = pd.concat(li, axis=0, ignore_index=True)\n",
    "raw_data.info()"
   ]
  },
  {
   "cell_type": "code",
   "execution_count": 40,
   "metadata": {},
   "outputs": [
    {
     "data": {
      "text/plain": [
       "<AxesSubplot:>"
      ]
     },
     "execution_count": 40,
     "metadata": {},
     "output_type": "execute_result"
    },
    {
     "data": {
      "image/png": "[encoded data removed]",
      "text/plain": [
       "<Figure size 432x288 with 1 Axes>"
      ]
     },
     "metadata": {
      "needs_background": "light"
     },
     "output_type": "display_data"
    }
   ],
   "source": [
    "raw_data['Star Rating'].value_counts().plot(kind='bar')"
   ]
  },
  {
   "cell_type": "code",
   "execution_count": null,
   "metadata": {},
   "outputs": [],
   "source": []
  },
  {
   "cell_type": "code",
   "execution_count": 41,
   "metadata": {},
   "outputs": [
    {
     "name": "stdout",
     "output_type": "stream",
     "text": [
      "with review:  670  vs no review:  675\n"
     ]
    }
   ],
   "source": [
    "is_bad_rating = raw_data['Star Rating'] <= 4\n",
    "is_review_available = pd.notnull(raw_data['Review Text'])\n",
    "is_no_review = pd.isnull(raw_data['Review Text'])\n",
    "bad_ratting_no_review = raw_data[is_bad_rating & is_no_review]\n",
    "bad_ratting_with_review = raw_data[is_bad_rating & is_review_available]\n",
    "print(\"with review: \", len(bad_ratting_with_review), \" vs no review: \", len(bad_ratting_no_review))"
   ]
  },
  {
   "cell_type": "code",
   "execution_count": 42,
   "metadata": {},
   "outputs": [
    {
     "data": {
      "text/html": [
       "<div>\n",
       "<style scoped>\n",
       "    .dataframe tbody tr th:only-of-type {\n",
       "        vertical-align: middle;\n",
       "    }\n",
       "\n",
       "    .dataframe tbody tr th {\n",
       "        vertical-align: top;\n",
       "    }\n",
       "\n",
       "    .dataframe thead th {\n",
       "        text-align: right;\n",
       "    }\n",
       "</style>\n",
       "<table border=\"1\" class=\"dataframe\">\n",
       "  <thead>\n",
       "    <tr style=\"text-align: right;\">\n",
       "      <th></th>\n",
       "      <th>Star Rating</th>\n",
       "      <th>Review Text</th>\n",
       "      <th>App Version Name</th>\n",
       "    </tr>\n",
       "  </thead>\n",
       "  <tbody>\n",
       "    <tr>\n",
       "      <th>3353</th>\n",
       "      <td>1</td>\n",
       "      <td>Tolol</td>\n",
       "      <td>NaN</td>\n",
       "    </tr>\n",
       "    <tr>\n",
       "      <th>3357</th>\n",
       "      <td>1</td>\n",
       "      <td>Kok saya ngga bisa download</td>\n",
       "      <td>NaN</td>\n",
       "    </tr>\n",
       "    <tr>\n",
       "      <th>3363</th>\n",
       "      <td>1</td>\n",
       "      <td>kak mohon diperbaiki ya. banyak yang susah log...</td>\n",
       "      <td>NaN</td>\n",
       "    </tr>\n",
       "    <tr>\n",
       "      <th>3365</th>\n",
       "      <td>1</td>\n",
       "      <td>nggak bisa masuk</td>\n",
       "      <td>6.0.24</td>\n",
       "    </tr>\n",
       "    <tr>\n",
       "      <th>3366</th>\n",
       "      <td>1</td>\n",
       "      <td>Ini gimana cara daftarnya sih, udah berulang \"...</td>\n",
       "      <td>NaN</td>\n",
       "    </tr>\n",
       "    <tr>\n",
       "      <th>3367</th>\n",
       "      <td>1</td>\n",
       "      <td>Gak isok login cok</td>\n",
       "      <td>6.0.24</td>\n",
       "    </tr>\n",
       "    <tr>\n",
       "      <th>3370</th>\n",
       "      <td>1</td>\n",
       "      <td>Aplikasi ngga bisa login,kata sandi salah melu...</td>\n",
       "      <td>NaN</td>\n",
       "    </tr>\n",
       "    <tr>\n",
       "      <th>3374</th>\n",
       "      <td>1</td>\n",
       "      <td>Gak ada kelas smp</td>\n",
       "      <td>6.0.24</td>\n",
       "    </tr>\n",
       "    <tr>\n",
       "      <th>3381</th>\n",
       "      <td>4</td>\n",
       "      <td>Saya lupa password quipper gimana cara tau pas...</td>\n",
       "      <td>NaN</td>\n",
       "    </tr>\n",
       "    <tr>\n",
       "      <th>3385</th>\n",
       "      <td>4</td>\n",
       "      <td>Aplikasi ini mudah.... Untuk di pakai buat murid</td>\n",
       "      <td>NaN</td>\n",
       "    </tr>\n",
       "    <tr>\n",
       "      <th>3388</th>\n",
       "      <td>2</td>\n",
       "      <td>Kenapa kurikulum nya masih 2006 siiih</td>\n",
       "      <td>6.0.24</td>\n",
       "    </tr>\n",
       "    <tr>\n",
       "      <th>3402</th>\n",
       "      <td>3</td>\n",
       "      <td>Aaaaaaaaaaaaaaaaaaaaasik</td>\n",
       "      <td>NaN</td>\n",
       "    </tr>\n",
       "    <tr>\n",
       "      <th>3405</th>\n",
       "      <td>1</td>\n",
       "      <td>Aku mau download aplikasi nya eh malah ngak bisa</td>\n",
       "      <td>NaN</td>\n",
       "    </tr>\n",
       "    <tr>\n",
       "      <th>3407</th>\n",
       "      <td>1</td>\n",
       "      <td>Apa kata sandi Quipper?</td>\n",
       "      <td>6.0.25</td>\n",
       "    </tr>\n",
       "    <tr>\n",
       "      <th>3410</th>\n",
       "      <td>1</td>\n",
       "      <td>Aplikasi jelek</td>\n",
       "      <td>NaN</td>\n",
       "    </tr>\n",
       "  </tbody>\n",
       "</table>\n",
       "</div>"
      ],
      "text/plain": [
       "      Star Rating                                        Review Text  \\\n",
       "3353            1                                              Tolol   \n",
       "3357            1                        Kok saya ngga bisa download   \n",
       "3363            1  kak mohon diperbaiki ya. banyak yang susah log...   \n",
       "3365            1                                   nggak bisa masuk   \n",
       "3366            1  Ini gimana cara daftarnya sih, udah berulang \"...   \n",
       "3367            1                                 Gak isok login cok   \n",
       "3370            1  Aplikasi ngga bisa login,kata sandi salah melu...   \n",
       "3374            1                                  Gak ada kelas smp   \n",
       "3381            4  Saya lupa password quipper gimana cara tau pas...   \n",
       "3385            4   Aplikasi ini mudah.... Untuk di pakai buat murid   \n",
       "3388            2              Kenapa kurikulum nya masih 2006 siiih   \n",
       "3402            3                           Aaaaaaaaaaaaaaaaaaaaasik   \n",
       "3405            1   Aku mau download aplikasi nya eh malah ngak bisa   \n",
       "3407            1                            Apa kata sandi Quipper?   \n",
       "3410            1                                     Aplikasi jelek   \n",
       "\n",
       "     App Version Name  \n",
       "3353              NaN  \n",
       "3357              NaN  \n",
       "3363              NaN  \n",
       "3365           6.0.24  \n",
       "3366              NaN  \n",
       "3367           6.0.24  \n",
       "3370              NaN  \n",
       "3374           6.0.24  \n",
       "3381              NaN  \n",
       "3385              NaN  \n",
       "3388           6.0.24  \n",
       "3402              NaN  \n",
       "3405              NaN  \n",
       "3407           6.0.25  \n",
       "3410              NaN  "
      ]
     },
     "execution_count": 42,
     "metadata": {},
     "output_type": "execute_result"
    }
   ],
   "source": [
    "bad_ratting_with_review[['Star Rating', 'Review Text', 'App Version Name']][635:650]"
   ]
  },
  {
   "cell_type": "code",
   "execution_count": 43,
   "metadata": {},
   "outputs": [],
   "source": [
    "def check_review_text(text):\n",
    "    if (isinstance(text, pd.Series)):\n",
    "        return ' '.join(text)\n",
    "    else:\n",
    "         return text   "
   ]
  },
  {
   "cell_type": "code",
   "execution_count": 44,
   "metadata": {},
   "outputs": [
    {
     "name": "stdout",
     "output_type": "stream",
     "text": [
      "670 670\n"
     ]
    }
   ],
   "source": [
    "review_text =  bad_ratting_with_review['Review Text'] \n",
    "# print(check_review_text(review_text[163]))\n",
    "# for review in review_text:\n",
    "#     text = check_review_text(review)\n",
    "#     print(text)\n",
    "list_text = map(check_review_text, review_text)\n",
    "print(len(list(list_text)), len(review_text))"
   ]
  }
 ],
 "metadata": {
  "kernelspec": {
   "display_name": "Python 3",
   "language": "python",
   "name": "python3"
  },
  "language_info": {
   "codemirror_mode": {
    "name": "ipython",
    "version": 3
   },
   "file_extension": ".py",
   "mimetype": "text/x-python",
   "name": "python",
   "nbconvert_exporter": "python",
   "pygments_lexer": "ipython3",
   "version": "3.7.9"
  }
 },
 "nbformat": 4,
 "nbformat_minor": 4
}
