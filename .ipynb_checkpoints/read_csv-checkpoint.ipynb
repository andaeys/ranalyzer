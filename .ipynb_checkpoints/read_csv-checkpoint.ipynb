{
 "cells": [
  {
   "cell_type": "code",
   "execution_count": 3,
   "metadata": {},
   "outputs": [
    {
     "name": "stdout",
     "output_type": "stream",
     "text": [
      "Python version 3.7.9 (default, Aug 31 2020, 12:42:55) \n",
      "[GCC 7.3.0]\n",
      "Pandas version 1.1.5\n",
      "Matplotlib version 3.3.3\n"
     ]
    }
   ],
   "source": [
    "from pandas import DataFrame, read_csv\n",
    "\n",
    "# General syntax to import a library but no functions: \n",
    "##import (library) as (give the library a nickname/alias)\n",
    "import matplotlib.pyplot as plt\n",
    "import pandas as pd #this is how I usually import pandas\n",
    "import sys #only needed to determine Python version number\n",
    "import matplotlib #only needed to determine Matplotlib version number\n",
    "import numpy as np\n",
    "from langdetect import detect_langs #detect lang\n",
    "from langdetect import detect #detect lang\n",
    "\n",
    "# Enable inline plotting\n",
    "%matplotlib inline\n",
    "\n",
    "print('Python version ' + sys.version)\n",
    "print('Pandas version ' + pd.__version__)\n",
    "print('Matplotlib version ' + matplotlib.__version__)"
   ]
  },
  {
   "cell_type": "code",
   "execution_count": 4,
   "metadata": {},
   "outputs": [],
   "source": [
    "jul_raw = pd.read_csv('datasets/jul_2020.csv', engine = 'python')\n",
    "aug_raw = pd.read_csv('datasets/aug_2020.csv', engine = 'python')\n",
    "sep_raw = pd.read_csv('datasets/sep_2020.csv', engine = 'python')\n",
    "oct_raw = pd.read_csv('datasets/oct_2020.csv', engine = 'python')\n",
    "nov_raw = pd.read_csv('datasets/nov_2020.csv', engine = 'python')\n",
    "dec_raw = pd.read_csv('datasets/dec_2020.csv', engine = 'python')"
   ]
  },
  {
   "cell_type": "code",
   "execution_count": 5,
   "metadata": {},
   "outputs": [
    {
     "name": "stdout",
     "output_type": "stream",
     "text": [
      "<class 'pandas.core.frame.DataFrame'>\n",
      "Int64Index: 3501 entries, 0 to 379\n",
      "Data columns (total 16 columns):\n",
      " #   Column                                 Non-Null Count  Dtype  \n",
      "---  ------                                 --------------  -----  \n",
      " 0   Package Name                           3501 non-null   object \n",
      " 1   App Version Code                       2564 non-null   float64\n",
      " 2   App Version Name                       2564 non-null   object \n",
      " 3   Reviewer Language                      3501 non-null   object \n",
      " 4   Device                                 3501 non-null   object \n",
      " 5   Review Submit Date and Time            3501 non-null   object \n",
      " 6   Review Submit Millis Since Epoch       3501 non-null   float64\n",
      " 7   Review Last Update Date and Time       3501 non-null   object \n",
      " 8   Review Last Update Millis Since Epoch  3501 non-null   float64\n",
      " 9   Star Rating                            3501 non-null   int64  \n",
      " 10  Review Title                           0 non-null      float64\n",
      " 11  Review Text                            1103 non-null   object \n",
      " 12  Developer Reply Date and Time          809 non-null    object \n",
      " 13  Developer Reply Millis Since Epoch     809 non-null    float64\n",
      " 14  Developer Reply Text                   809 non-null    object \n",
      " 15  Review Link                            1103 non-null   object \n",
      "dtypes: float64(5), int64(1), object(10)\n",
      "memory usage: 465.0+ KB\n"
     ]
    }
   ],
   "source": [
    "frames = [jul_raw, aug_raw, sep_raw, oct_raw, nov_raw, dec_raw]\n",
    "raw_data = pd.concat(frames)\n",
    "raw_data.info()"
   ]
  },
  {
   "cell_type": "code",
   "execution_count": 6,
   "metadata": {},
   "outputs": [
    {
     "data": {
      "text/plain": [
       "<AxesSubplot:>"
      ]
     },
     "execution_count": 6,
     "metadata": {},
     "output_type": "execute_result"
    },
    {
     "data": {
      "image/png": "[encoded data removed]",
      "text/plain": [
       "<Figure size 432x288 with 1 Axes>"
      ]
     },
     "metadata": {
      "needs_background": "light"
     },
     "output_type": "display_data"
    }
   ],
   "source": [
    "raw_data['Star Rating'].value_counts().plot(kind='bar')"
   ]
  },
  {
   "cell_type": "code",
   "execution_count": 7,
   "metadata": {},
   "outputs": [
    {
     "name": "stdout",
     "output_type": "stream",
     "text": [
      "with review:  670  vs no review:  675\n"
     ]
    }
   ],
   "source": [
    "is_bad_rating = raw_data['Star Rating'] <= 4\n",
    "is_review_available = pd.notnull(raw_data['Review Text'])\n",
    "is_no_review = pd.isnull(raw_data['Review Text'])\n",
    "bad_ratting_no_review = raw_data[is_bad_rating & is_no_review]\n",
    "bad_ratting_with_review = raw_data[is_bad_rating & is_review_available]\n",
    "print(\"with review: \", len(bad_ratting_with_review), \" vs no review: \", len(bad_ratting_no_review))"
   ]
  },
  {
   "cell_type": "code",
   "execution_count": 17,
   "metadata": {},
   "outputs": [
    {
     "data": {
      "text/html": [
       "<div>\n",
       "<style scoped>\n",
       "    .dataframe tbody tr th:only-of-type {\n",
       "        vertical-align: middle;\n",
       "    }\n",
       "\n",
       "    .dataframe tbody tr th {\n",
       "        vertical-align: top;\n",
       "    }\n",
       "\n",
       "    .dataframe thead th {\n",
       "        text-align: right;\n",
       "    }\n",
       "</style>\n",
       "<table border=\"1\" class=\"dataframe\">\n",
       "  <thead>\n",
       "    <tr style=\"text-align: right;\">\n",
       "      <th></th>\n",
       "      <th>Star Rating</th>\n",
       "      <th>Review Text</th>\n",
       "      <th>App Version Name</th>\n",
       "    </tr>\n",
       "  </thead>\n",
       "  <tbody>\n",
       "    <tr>\n",
       "      <th>127</th>\n",
       "      <td>3</td>\n",
       "      <td>ini cukup baikkk</td>\n",
       "      <td>6.0.35</td>\n",
       "    </tr>\n",
       "    <tr>\n",
       "      <th>142</th>\n",
       "      <td>1</td>\n",
       "      <td>Bubo quipper</td>\n",
       "      <td>6.0.35</td>\n",
       "    </tr>\n",
       "    <tr>\n",
       "      <th>144</th>\n",
       "      <td>1</td>\n",
       "      <td>perhaps</td>\n",
       "      <td>6.0.35</td>\n",
       "    </tr>\n",
       "    <tr>\n",
       "      <th>156</th>\n",
       "      <td>1</td>\n",
       "      <td>Kakean tugas</td>\n",
       "      <td>NaN</td>\n",
       "    </tr>\n",
       "    <tr>\n",
       "      <th>164</th>\n",
       "      <td>1</td>\n",
       "      <td>so weird and glitchy.</td>\n",
       "      <td>NaN</td>\n",
       "    </tr>\n",
       "    <tr>\n",
       "      <th>166</th>\n",
       "      <td>2</td>\n",
       "      <td>Hallo quipper soal sama materu saya gabisa dib...</td>\n",
       "      <td>6.0.35</td>\n",
       "    </tr>\n",
       "    <tr>\n",
       "      <th>174</th>\n",
       "      <td>2</td>\n",
       "      <td>wtff... kurang lengkap dh penjelasannya??</td>\n",
       "      <td>6.0.35</td>\n",
       "    </tr>\n",
       "    <tr>\n",
       "      <th>179</th>\n",
       "      <td>3</td>\n",
       "      <td>Coba dulu</td>\n",
       "      <td>NaN</td>\n",
       "    </tr>\n",
       "    <tr>\n",
       "      <th>185</th>\n",
       "      <td>2</td>\n",
       "      <td>Admin Quipper, aplikasi ku kenapa terus-terusa...</td>\n",
       "      <td>6.0.36</td>\n",
       "    </tr>\n",
       "    <tr>\n",
       "      <th>190</th>\n",
       "      <td>1</td>\n",
       "      <td>Nyesel banget langganan di quipper</td>\n",
       "      <td>6.0.35</td>\n",
       "    </tr>\n",
       "    <tr>\n",
       "      <th>194</th>\n",
       "      <td>1</td>\n",
       "      <td>Bad</td>\n",
       "      <td>6.0.29</td>\n",
       "    </tr>\n",
       "    <tr>\n",
       "      <th>198</th>\n",
       "      <td>1</td>\n",
       "      <td>Apa apa an gara gara Ini aplikasi Nilai ku 0 a...</td>\n",
       "      <td>6.0.36</td>\n",
       "    </tr>\n",
       "    <tr>\n",
       "      <th>205</th>\n",
       "      <td>1</td>\n",
       "      <td>bang ini quiper2 cuttt ,saya iri bgt pak karna...</td>\n",
       "      <td>6.0.36</td>\n",
       "    </tr>\n",
       "    <tr>\n",
       "      <th>210</th>\n",
       "      <td>1</td>\n",
       "      <td>Admin nya tau nama bapak ku gk</td>\n",
       "      <td>NaN</td>\n",
       "    </tr>\n",
       "    <tr>\n",
       "      <th>211</th>\n",
       "      <td>1</td>\n",
       "      <td>Nthlh, tapi saya merasa penjelasannya agak ber...</td>\n",
       "      <td>NaN</td>\n",
       "    </tr>\n",
       "  </tbody>\n",
       "</table>\n",
       "</div>"
      ],
      "text/plain": [
       "     Star Rating                                        Review Text  \\\n",
       "127            3                                   ini cukup baikkk   \n",
       "142            1                                       Bubo quipper   \n",
       "144            1                                            perhaps   \n",
       "156            1                                       Kakean tugas   \n",
       "164            1                              so weird and glitchy.   \n",
       "166            2  Hallo quipper soal sama materu saya gabisa dib...   \n",
       "174            2          wtff... kurang lengkap dh penjelasannya??   \n",
       "179            3                                          Coba dulu   \n",
       "185            2  Admin Quipper, aplikasi ku kenapa terus-terusa...   \n",
       "190            1                 Nyesel banget langganan di quipper   \n",
       "194            1                                                Bad   \n",
       "198            1  Apa apa an gara gara Ini aplikasi Nilai ku 0 a...   \n",
       "205            1  bang ini quiper2 cuttt ,saya iri bgt pak karna...   \n",
       "210            1                     Admin nya tau nama bapak ku gk   \n",
       "211            1  Nthlh, tapi saya merasa penjelasannya agak ber...   \n",
       "\n",
       "    App Version Name  \n",
       "127           6.0.35  \n",
       "142           6.0.35  \n",
       "144           6.0.35  \n",
       "156              NaN  \n",
       "164              NaN  \n",
       "166           6.0.35  \n",
       "174           6.0.35  \n",
       "179              NaN  \n",
       "185           6.0.36  \n",
       "190           6.0.35  \n",
       "194           6.0.29  \n",
       "198           6.0.36  \n",
       "205           6.0.36  \n",
       "210              NaN  \n",
       "211              NaN  "
      ]
     },
     "execution_count": 17,
     "metadata": {},
     "output_type": "execute_result"
    }
   ],
   "source": [
    "bad_ratting_with_review[['Star Rating', 'Review Text', 'App Version Name']][635:650]"
   ]
  },
  {
   "cell_type": "code",
   "execution_count": 28,
   "metadata": {},
   "outputs": [],
   "source": [
    "def check_review_text(text):\n",
    "    if (isinstance(text, pd.Series)):\n",
    "        return ' '.join(text)\n",
    "    else:\n",
    "         return text   "
   ]
  },
  {
   "cell_type": "code",
   "execution_count": 29,
   "metadata": {},
   "outputs": [
    {
     "name": "stdout",
     "output_type": "stream",
     "text": [
      "Waktu masukin Kode kelas loading trus lama banget nggak bisa masuk Nyesel banget download x , daftar x susah di persusahkan gimana sih,...\n"
     ]
    }
   ],
   "source": [
    "review_text =  bad_ratting_with_review['Review Text'] \n",
    "# print(check_review_text(review_text[163]))\n",
    "for review in review_text:\n",
    "    text = check_review_text(review)\n",
    "    print(text)"
   ]
  },
  {
   "cell_type": "code",
   "execution_count": null,
   "metadata": {},
   "outputs": [],
   "source": []
  },
  {
   "cell_type": "code",
   "execution_count": null,
   "metadata": {},
   "outputs": [],
   "source": []
  },
  {
   "cell_type": "code",
   "execution_count": null,
   "metadata": {},
   "outputs": [],
   "source": []
  },
  {
   "cell_type": "code",
   "execution_count": null,
   "metadata": {},
   "outputs": [],
   "source": []
  },
  {
   "cell_type": "code",
   "execution_count": null,
   "metadata": {},
   "outputs": [],
   "source": []
  },
  {
   "cell_type": "code",
   "execution_count": null,
   "metadata": {},
   "outputs": [],
   "source": []
  },
  {
   "cell_type": "code",
   "execution_count": null,
   "metadata": {},
   "outputs": [],
   "source": []
  },
  {
   "cell_type": "code",
   "execution_count": null,
   "metadata": {},
   "outputs": [],
   "source": []
  },
  {
   "cell_type": "code",
   "execution_count": null,
   "metadata": {},
   "outputs": [],
   "source": []
  },
  {
   "cell_type": "code",
   "execution_count": null,
   "metadata": {},
   "outputs": [],
   "source": []
  },
  {
   "cell_type": "code",
   "execution_count": null,
   "metadata": {},
   "outputs": [],
   "source": []
  },
  {
   "cell_type": "code",
   "execution_count": null,
   "metadata": {},
   "outputs": [],
   "source": []
  },
  {
   "cell_type": "code",
   "execution_count": null,
   "metadata": {},
   "outputs": [],
   "source": []
  },
  {
   "cell_type": "code",
   "execution_count": null,
   "metadata": {},
   "outputs": [],
   "source": []
  },
  {
   "cell_type": "code",
   "execution_count": null,
   "metadata": {},
   "outputs": [],
   "source": []
  },
  {
   "cell_type": "code",
   "execution_count": null,
   "metadata": {},
   "outputs": [],
   "source": []
  },
  {
   "cell_type": "code",
   "execution_count": null,
   "metadata": {},
   "outputs": [],
   "source": []
  },
  {
   "cell_type": "code",
   "execution_count": null,
   "metadata": {},
   "outputs": [],
   "source": []
  },
  {
   "cell_type": "code",
   "execution_count": null,
   "metadata": {},
   "outputs": [],
   "source": []
  },
  {
   "cell_type": "code",
   "execution_count": null,
   "metadata": {},
   "outputs": [],
   "source": []
  },
  {
   "cell_type": "code",
   "execution_count": null,
   "metadata": {},
   "outputs": [],
   "source": []
  },
  {
   "cell_type": "code",
   "execution_count": null,
   "metadata": {},
   "outputs": [],
   "source": []
  },
  {
   "cell_type": "code",
   "execution_count": null,
   "metadata": {},
   "outputs": [],
   "source": []
  },
  {
   "cell_type": "code",
   "execution_count": null,
   "metadata": {},
   "outputs": [],
   "source": []
  },
  {
   "cell_type": "code",
   "execution_count": null,
   "metadata": {},
   "outputs": [],
   "source": []
  },
  {
   "cell_type": "code",
   "execution_count": null,
   "metadata": {},
   "outputs": [],
   "source": []
  },
  {
   "cell_type": "code",
   "execution_count": null,
   "metadata": {},
   "outputs": [],
   "source": []
  },
  {
   "cell_type": "code",
   "execution_count": null,
   "metadata": {},
   "outputs": [],
   "source": []
  },
  {
   "cell_type": "code",
   "execution_count": null,
   "metadata": {},
   "outputs": [],
   "source": []
  },
  {
   "cell_type": "code",
   "execution_count": null,
   "metadata": {},
   "outputs": [],
   "source": []
  },
  {
   "cell_type": "code",
   "execution_count": null,
   "metadata": {},
   "outputs": [],
   "source": []
  },
  {
   "cell_type": "code",
   "execution_count": null,
   "metadata": {},
   "outputs": [],
   "source": []
  },
  {
   "cell_type": "code",
   "execution_count": null,
   "metadata": {},
   "outputs": [],
   "source": []
  },
  {
   "cell_type": "code",
   "execution_count": null,
   "metadata": {},
   "outputs": [],
   "source": []
  },
  {
   "cell_type": "code",
   "execution_count": null,
   "metadata": {},
   "outputs": [],
   "source": []
  },
  {
   "cell_type": "code",
   "execution_count": null,
   "metadata": {},
   "outputs": [],
   "source": []
  },
  {
   "cell_type": "code",
   "execution_count": null,
   "metadata": {},
   "outputs": [],
   "source": []
  }
 ],
 "metadata": {
  "kernelspec": {
   "display_name": "Python 3",
   "language": "python",
   "name": "python3"
  },
  "language_info": {
   "codemirror_mode": {
    "name": "ipython",
    "version": 3
   },
   "file_extension": ".py",
   "mimetype": "text/x-python",
   "name": "python",
   "nbconvert_exporter": "python",
   "pygments_lexer": "ipython3",
   "version": "3.7.9"
  }
 },
 "nbformat": 4,
 "nbformat_minor": 4
}
